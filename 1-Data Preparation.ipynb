{
 "cells": [
  {
   "cell_type": "markdown",
   "metadata": {},
   "source": [
    "# UK used Cars - Car Price Prediction Regression Model\n",
    "--- "
   ]
  },
  {
   "cell_type": "code",
   "execution_count": 2,
   "metadata": {},
   "outputs": [],
   "source": [
    "## EDA Standard Libary\n",
    "\n",
    "import pandas as pd\n",
    "import numpy as np\n",
    "import matplotlib.pyplot as plt\n",
    "import seaborn as sns\n",
    "import statsmodels.stats as ss"
   ]
  },
  {
   "cell_type": "code",
   "execution_count": 3,
   "metadata": {},
   "outputs": [
    {
     "data": {
      "text/plain": [
       "'/Users/Dwika/My Projects/FINAL PROJECT PURWADHIKA'"
      ]
     },
     "execution_count": 3,
     "metadata": {},
     "output_type": "execute_result"
    }
   ],
   "source": [
    "import os\n",
    "#Define ROOT_DIR as the root directory of the project on your local machine\n",
    "ROOT_DIS = os.path.realpath(os.path.join(os.path.dirname('1-Data Preparation.ipynb'), '..'))\n",
    "ROOT_DIS\n"
   ]
  },
  {
   "cell_type": "markdown",
   "metadata": {},
   "source": [
    "## Stakeholder Statements\n",
    "---\n",
    "\n",
    "###     Business Problem\n",
    "Online used car listing company (e.g: OLX Autos, Carmudi, Carsome.id) \n",
    "\n",
    "### Business Model: \n",
    "Mereka beli mobil bekas dengan kondisi yang bagus harga dibawah pasar, untuk dijual lagi di platform mereka dengan harga yang lebih tinggi\n",
    "\n",
    "### Business Problem:\n",
    "- Jika membeli mobil harganya ketinggian maka profitnya lebih kecil\n",
    "\n",
    "### Business Success Criteria:\n",
    "- Mereka ingin mengetahui range harga mobil bekas yang akan mereka beli, agar mereka bisa menentukan harga jual yang tepat\n",
    "- Tetap memperhitungkan profit dalam hasil prediksi harga mobil bekas\n",
    "\n",
    "### \n",
    "Solution:\n",
    "- Membuat model machine learning untuk memprediksi harga mobil bekas, sehingga ketika agen pembeli mobil bekas menemukan mobil bekas yang akan dibeli, mereka bisa mengetahui range harga beli yang tepat, sehingga profit yang didapat maksimal"
   ]
  },
  {
   "cell_type": "code",
   "execution_count": 2,
   "metadata": {},
   "outputs": [],
   "source": [
    "import numpy as np"
   ]
  },
  {
   "cell_type": "code",
   "execution_count": 3,
   "metadata": {},
   "outputs": [
    {
     "ename": "NameError",
     "evalue": "name 'wasd' is not defined",
     "output_type": "error",
     "traceback": [
      "\u001b[1;31m---------------------------------------------------------------------------\u001b[0m",
      "\u001b[1;31mNameError\u001b[0m                                 Traceback (most recent call last)",
      "\u001b[1;32md:\\Purwadhika\\Final Project\\Brazilian E-Commerce\\finpro-alpha\\1-Data Preparation.ipynb Cell 6\u001b[0m line \u001b[0;36m1\n\u001b[1;32m----> <a href='vscode-notebook-cell:/d%3A/Purwadhika/Final%20Project/Brazilian%20E-Commerce/finpro-alpha/1-Data%20Preparation.ipynb#X12sZmlsZQ%3D%3D?line=0'>1</a>\u001b[0m wasd\n",
      "\u001b[1;31mNameError\u001b[0m: name 'wasd' is not defined"
     ]
    }
   ],
   "source": [
    "# wasd"
   ]
  },
  {
   "cell_type": "code",
   "execution_count": 4,
   "metadata": {},
   "outputs": [],
   "source": [
    "# test 1 2 3 "
   ]
  },
  {
   "cell_type": "markdown",
   "metadata": {},
   "source": [
    "print('hello)"
   ]
  }
 ],
 "metadata": {
  "kernelspec": {
   "display_name": ".venv",
   "language": "python",
   "name": "python3"
  },
  "language_info": {
   "codemirror_mode": {
    "name": "ipython",
    "version": 3
   },
   "file_extension": ".py",
   "mimetype": "text/x-python",
   "name": "python",
   "nbconvert_exporter": "python",
   "pygments_lexer": "ipython3",
   "version": "3.11.7"
  }
 },
 "nbformat": 4,
 "nbformat_minor": 2
}
